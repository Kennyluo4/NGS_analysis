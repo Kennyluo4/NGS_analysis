{
 "metadata": {
  "language_info": {
   "codemirror_mode": {
    "name": "ipython",
    "version": 3
   },
   "file_extension": ".py",
   "mimetype": "text/x-python",
   "name": "python",
   "nbconvert_exporter": "python",
   "pygments_lexer": "ipython3",
   "version": 3
  },
  "orig_nbformat": 2,
  "kernelspec": {
   "name": "python_defaultSpec_1595091731634",
   "display_name": "Python 3.7.3 64-bit"
  }
 },
 "nbformat": 4,
 "nbformat_minor": 2,
 "cells": [
  {
   "cell_type": "code",
   "execution_count": 17,
   "metadata": {},
   "outputs": [],
   "source": [
    "import pandas as pd\n",
    "import numpy as np"
   ]
  },
  {
   "cell_type": "code",
   "execution_count": 191,
   "metadata": {},
   "outputs": [],
   "source": [
    "df = pd.read_csv(\"geneInfo_GS_MM.csv\")\n",
    "mods = pd.read_csv(\"trait-related_modules.csv\")"
   ]
  },
  {
   "cell_type": "code",
   "execution_count": 192,
   "metadata": {},
   "outputs": [
    {
     "output_type": "execute_result",
     "data": {
      "text/plain": "                              Unnamed: 0  \\\n0                     rna-XR_003162953.2   \n1  MSTRG.18724|LOC112707349|LOC114924323   \n2  MSTRG.31389|LOC112733779|LOC112733780   \n3               MSTRG.34819|LOC112747498   \n4               MSTRG.10672|LOC112800102   \n\n                            substanceBXH moduleColor  GS.treatment  \\\n0                     rna-XR_003162953.2       black     -0.000224   \n1  MSTRG.18724|LOC112707349|LOC114924323       black      0.000475   \n2  MSTRG.31389|LOC112733779|LOC112733780       black     -0.000551   \n3               MSTRG.34819|LOC112747498       black     -0.000604   \n4               MSTRG.10672|LOC112800102       black     -0.000604   \n\n   p.GS.treatment   MM.pink  p.MM.pink  MM.magenta  p.MM.magenta    MM.tan  \\\n0        0.999343 -0.254547   0.341404   -0.094380      0.728086  0.234096   \n1        0.998606 -0.311233   0.240646    0.076680      0.777748 -0.091611   \n2        0.998385 -0.092088   0.734465   -0.012562      0.963173  0.018572   \n3        0.998228 -0.158412   0.557897    0.139699      0.605846  0.022618   \n4        0.998228 -0.158412   0.557897    0.139699      0.605846  0.022618   \n\n   ...  MM.darkorange  p.MM.darkorange  MM.greenyellow  p.MM.greenyellow  \\\n0  ...       0.037414         0.890584        0.137424          0.611785   \n1  ...      -0.034067         0.900325       -0.083224          0.759281   \n2  ...      -0.674325         0.004171        0.756852          0.000688   \n3  ...      -0.622425         0.010026        0.593429          0.015381   \n4  ...      -0.622425         0.010026        0.593429          0.015381   \n\n     MM.red  p.MM.red  MM.white  p.MM.white  MM.lightsteelblue1  \\\n0  0.012957  0.962015 -0.142642    0.598200            0.187520   \n1 -0.538557  0.031372  0.410006    0.114734           -0.007751   \n2 -0.290992  0.274205  0.432884    0.093972           -0.266977   \n3 -0.322099  0.223742  0.529249    0.035018           -0.114182   \n4 -0.322099  0.223742  0.529249    0.035018           -0.114182   \n\n   p.MM.lightsteelblue1  \n0              0.486778  \n1              0.977271  \n2              0.317514  \n3              0.673711  \n4              0.673711  \n\n[5 rows x 95 columns]",
      "text/html": "<div>\n<style scoped>\n    .dataframe tbody tr th:only-of-type {\n        vertical-align: middle;\n    }\n\n    .dataframe tbody tr th {\n        vertical-align: top;\n    }\n\n    .dataframe thead th {\n        text-align: right;\n    }\n</style>\n<table border=\"1\" class=\"dataframe\">\n  <thead>\n    <tr style=\"text-align: right;\">\n      <th></th>\n      <th>Unnamed: 0</th>\n      <th>substanceBXH</th>\n      <th>moduleColor</th>\n      <th>GS.treatment</th>\n      <th>p.GS.treatment</th>\n      <th>MM.pink</th>\n      <th>p.MM.pink</th>\n      <th>MM.magenta</th>\n      <th>p.MM.magenta</th>\n      <th>MM.tan</th>\n      <th>...</th>\n      <th>MM.darkorange</th>\n      <th>p.MM.darkorange</th>\n      <th>MM.greenyellow</th>\n      <th>p.MM.greenyellow</th>\n      <th>MM.red</th>\n      <th>p.MM.red</th>\n      <th>MM.white</th>\n      <th>p.MM.white</th>\n      <th>MM.lightsteelblue1</th>\n      <th>p.MM.lightsteelblue1</th>\n    </tr>\n  </thead>\n  <tbody>\n    <tr>\n      <th>0</th>\n      <td>rna-XR_003162953.2</td>\n      <td>rna-XR_003162953.2</td>\n      <td>black</td>\n      <td>-0.000224</td>\n      <td>0.999343</td>\n      <td>-0.254547</td>\n      <td>0.341404</td>\n      <td>-0.094380</td>\n      <td>0.728086</td>\n      <td>0.234096</td>\n      <td>...</td>\n      <td>0.037414</td>\n      <td>0.890584</td>\n      <td>0.137424</td>\n      <td>0.611785</td>\n      <td>0.012957</td>\n      <td>0.962015</td>\n      <td>-0.142642</td>\n      <td>0.598200</td>\n      <td>0.187520</td>\n      <td>0.486778</td>\n    </tr>\n    <tr>\n      <th>1</th>\n      <td>MSTRG.18724|LOC112707349|LOC114924323</td>\n      <td>MSTRG.18724|LOC112707349|LOC114924323</td>\n      <td>black</td>\n      <td>0.000475</td>\n      <td>0.998606</td>\n      <td>-0.311233</td>\n      <td>0.240646</td>\n      <td>0.076680</td>\n      <td>0.777748</td>\n      <td>-0.091611</td>\n      <td>...</td>\n      <td>-0.034067</td>\n      <td>0.900325</td>\n      <td>-0.083224</td>\n      <td>0.759281</td>\n      <td>-0.538557</td>\n      <td>0.031372</td>\n      <td>0.410006</td>\n      <td>0.114734</td>\n      <td>-0.007751</td>\n      <td>0.977271</td>\n    </tr>\n    <tr>\n      <th>2</th>\n      <td>MSTRG.31389|LOC112733779|LOC112733780</td>\n      <td>MSTRG.31389|LOC112733779|LOC112733780</td>\n      <td>black</td>\n      <td>-0.000551</td>\n      <td>0.998385</td>\n      <td>-0.092088</td>\n      <td>0.734465</td>\n      <td>-0.012562</td>\n      <td>0.963173</td>\n      <td>0.018572</td>\n      <td>...</td>\n      <td>-0.674325</td>\n      <td>0.004171</td>\n      <td>0.756852</td>\n      <td>0.000688</td>\n      <td>-0.290992</td>\n      <td>0.274205</td>\n      <td>0.432884</td>\n      <td>0.093972</td>\n      <td>-0.266977</td>\n      <td>0.317514</td>\n    </tr>\n    <tr>\n      <th>3</th>\n      <td>MSTRG.34819|LOC112747498</td>\n      <td>MSTRG.34819|LOC112747498</td>\n      <td>black</td>\n      <td>-0.000604</td>\n      <td>0.998228</td>\n      <td>-0.158412</td>\n      <td>0.557897</td>\n      <td>0.139699</td>\n      <td>0.605846</td>\n      <td>0.022618</td>\n      <td>...</td>\n      <td>-0.622425</td>\n      <td>0.010026</td>\n      <td>0.593429</td>\n      <td>0.015381</td>\n      <td>-0.322099</td>\n      <td>0.223742</td>\n      <td>0.529249</td>\n      <td>0.035018</td>\n      <td>-0.114182</td>\n      <td>0.673711</td>\n    </tr>\n    <tr>\n      <th>4</th>\n      <td>MSTRG.10672|LOC112800102</td>\n      <td>MSTRG.10672|LOC112800102</td>\n      <td>black</td>\n      <td>-0.000604</td>\n      <td>0.998228</td>\n      <td>-0.158412</td>\n      <td>0.557897</td>\n      <td>0.139699</td>\n      <td>0.605846</td>\n      <td>0.022618</td>\n      <td>...</td>\n      <td>-0.622425</td>\n      <td>0.010026</td>\n      <td>0.593429</td>\n      <td>0.015381</td>\n      <td>-0.322099</td>\n      <td>0.223742</td>\n      <td>0.529249</td>\n      <td>0.035018</td>\n      <td>-0.114182</td>\n      <td>0.673711</td>\n    </tr>\n  </tbody>\n</table>\n<p>5 rows × 95 columns</p>\n</div>"
     },
     "metadata": {},
     "execution_count": 192
    }
   ],
   "source": [
    "df.head()"
   ]
  },
  {
   "cell_type": "code",
   "execution_count": 193,
   "metadata": {
    "tags": []
   },
   "outputs": [
    {
     "output_type": "stream",
     "name": "stdout",
     "text": "8\n"
    },
    {
     "output_type": "execute_result",
     "data": {
      "text/plain": "(28, 95)"
     },
     "metadata": {},
     "execution_count": 193
    }
   ],
   "source": [
    "#test the filtering of modules and trait correlation\n",
    "newdf = df[(df[\"moduleColor\"] == \"pink\") & (abs(df[\"MM.pink\"]) >0.9) & (abs(df[\"GS.treatment\"]) >0.9)]\n",
    "print(len(mods))\n",
    "newdf.shape"
   ]
  },
  {
   "cell_type": "code",
   "execution_count": 215,
   "metadata": {
    "tags": []
   },
   "outputs": [
    {
     "output_type": "stream",
     "name": "stdout",
     "text": "22\nMM.pink\nnumber of genes with abs(mm)>0.9: 121\nMM.lightgreen\nnumber of genes with abs(mm)>0.9: 39\nMM.magenta\nnumber of genes with abs(mm)>0.9: 153\nMM.brown\nnumber of genes with abs(mm)>0.9: 411\nMM.tan\nnumber of genes with abs(mm)>0.9: 122\nMM.grey60\nnumber of genes with abs(mm)>0.9: 44\nMM.blue\nnumber of genes with abs(mm)>0.9: 1303\nMM.steelblue\nnumber of genes with abs(mm)>0.9: 17\n"
    }
   ],
   "source": [
    "#loop through trait related significant modules to take MM>0.9 & GS>0.9 for each module\n",
    "selected = []\n",
    "num_col= 6 + len(mods)*2\n",
    "print(num_col)\n",
    "for mod in mods[\"x\"]:\n",
    "    mm = \"MM.\" + mod\n",
    "    p_mm = \"p.\" +mm\n",
    "    print(mm)\n",
    "    #for each module:select abs(MM)>0.9 (hub genes), sort by abs(GS), select top 10 hub genes with high GS\n",
    "    #1. filter module and abs(MM)>0.9\n",
    "    df2 = df[(df[\"moduleColor\"] == mod) & (abs(df[mm]) >0.9)].iloc[:,1:num_col][[\"substanceBXH\", \"moduleColor\", \"GS.treatment\",\"p.GS.treatment\",mm,p_mm]]\n",
    "    #sort by abs(GS)\n",
    "    df3 = df2.reindex(df2[\"GS.treatment\"].abs().sort_values(ascending=False).index)\n",
    "    #print the number of genes MM>0.9\n",
    "    print('number of genes with abs(mm)>0.9: %s' %df3.shape[0]) \n",
    "    #take only top<=10 genes\n",
    "    df3.rename(columns={mm : \"MM\",p_mm: \"p.MM\"},inplace = True)\n",
    "    df3.head()\n",
    "    if df3.shape[0] >=15:\n",
    "        df3 = df3.head(15)\n",
    "    # else:\n",
    "    #     df3 = df3\n",
    "    selected.append(df3)\n",
    "hubresult = pd.concat(selected)\n",
    "# hubresult.to_excel(\"HubGenes_selection_wgcna_test.xlsx\", sheet_name=\"top10hub\",index=False)\n",
    "\n",
    "\n"
   ]
  },
  {
   "cell_type": "code",
   "execution_count": 216,
   "metadata": {},
   "outputs": [
    {
     "output_type": "execute_result",
     "data": {
      "text/plain": "                                substanceBXH moduleColor  GS.treatment  \\\n34065                            MSTRG.716.1        pink      0.949072   \n34063               MSTRG.42221|LOC112764731        pink     -0.945124   \n34062                MSTRG.9403|LOC112796913        pink     -0.944265   \n34061                MSTRG.9764|LOC112797355        pink      0.943160   \n34060                          MSTRG.18853.1        pink     -0.943018   \n34059                      gene-LOC112759180        pink     -0.942773   \n34058                      gene-LOC112728895        pink     -0.942773   \n34056                            MSTRG.36926        pink     -0.938879   \n34055               MSTRG.47506|LOC112777671        pink      0.938104   \n34054               MSTRG.46302|LOC112776304        pink      0.936848   \n34052                      gene-LOC112721805        pink      0.934872   \n34051               MSTRG.21104|LOC112711644        pink      0.934604   \n34049               MSTRG.33462|LOC112743531        pink     -0.933743   \n34047  MSTRG.39384|LOC112754965|LOC112754966        pink     -0.932376   \n34046                MSTRG.7367|LOC112791767        pink      0.930853   \n27915               MSTRG.28470|LOC112728651  lightgreen     -0.749809   \n\n       p.GS.treatment        MM          p.MM  \n34065    2.081598e-08 -0.913441  7.746223e-07  \n34063    3.473411e-08  0.914641  7.047934e-07  \n34062    3.863420e-08  0.925045  2.918502e-07  \n34061    4.419325e-08 -0.958620  4.992548e-09  \n34060    4.495597e-08  0.903527  1.610729e-06  \n34059    4.629781e-08  0.904249  1.531243e-06  \n34058    4.629781e-08  0.904249  1.531243e-06  \n34056    7.263218e-08  0.906067  1.345545e-06  \n34055    7.916552e-08 -0.918029  5.357212e-07  \n34054    9.080682e-08 -0.911187  9.216793e-07  \n34052    1.120630e-07 -0.908078  1.162807e-06  \n34051    1.152536e-07 -0.905376  1.413726e-06  \n34049    1.260108e-07  0.915849  6.399954e-07  \n34047    1.448428e-07  0.924651  3.024421e-07  \n34046    1.685847e-07 -0.935671  1.030139e-07  \n27915    8.236977e-04  0.921847  3.876443e-07  ",
      "text/html": "<div>\n<style scoped>\n    .dataframe tbody tr th:only-of-type {\n        vertical-align: middle;\n    }\n\n    .dataframe tbody tr th {\n        vertical-align: top;\n    }\n\n    .dataframe thead th {\n        text-align: right;\n    }\n</style>\n<table border=\"1\" class=\"dataframe\">\n  <thead>\n    <tr style=\"text-align: right;\">\n      <th></th>\n      <th>substanceBXH</th>\n      <th>moduleColor</th>\n      <th>GS.treatment</th>\n      <th>p.GS.treatment</th>\n      <th>MM</th>\n      <th>p.MM</th>\n    </tr>\n  </thead>\n  <tbody>\n    <tr>\n      <th>34065</th>\n      <td>MSTRG.716.1</td>\n      <td>pink</td>\n      <td>0.949072</td>\n      <td>2.081598e-08</td>\n      <td>-0.913441</td>\n      <td>7.746223e-07</td>\n    </tr>\n    <tr>\n      <th>34063</th>\n      <td>MSTRG.42221|LOC112764731</td>\n      <td>pink</td>\n      <td>-0.945124</td>\n      <td>3.473411e-08</td>\n      <td>0.914641</td>\n      <td>7.047934e-07</td>\n    </tr>\n    <tr>\n      <th>34062</th>\n      <td>MSTRG.9403|LOC112796913</td>\n      <td>pink</td>\n      <td>-0.944265</td>\n      <td>3.863420e-08</td>\n      <td>0.925045</td>\n      <td>2.918502e-07</td>\n    </tr>\n    <tr>\n      <th>34061</th>\n      <td>MSTRG.9764|LOC112797355</td>\n      <td>pink</td>\n      <td>0.943160</td>\n      <td>4.419325e-08</td>\n      <td>-0.958620</td>\n      <td>4.992548e-09</td>\n    </tr>\n    <tr>\n      <th>34060</th>\n      <td>MSTRG.18853.1</td>\n      <td>pink</td>\n      <td>-0.943018</td>\n      <td>4.495597e-08</td>\n      <td>0.903527</td>\n      <td>1.610729e-06</td>\n    </tr>\n    <tr>\n      <th>34059</th>\n      <td>gene-LOC112759180</td>\n      <td>pink</td>\n      <td>-0.942773</td>\n      <td>4.629781e-08</td>\n      <td>0.904249</td>\n      <td>1.531243e-06</td>\n    </tr>\n    <tr>\n      <th>34058</th>\n      <td>gene-LOC112728895</td>\n      <td>pink</td>\n      <td>-0.942773</td>\n      <td>4.629781e-08</td>\n      <td>0.904249</td>\n      <td>1.531243e-06</td>\n    </tr>\n    <tr>\n      <th>34056</th>\n      <td>MSTRG.36926</td>\n      <td>pink</td>\n      <td>-0.938879</td>\n      <td>7.263218e-08</td>\n      <td>0.906067</td>\n      <td>1.345545e-06</td>\n    </tr>\n    <tr>\n      <th>34055</th>\n      <td>MSTRG.47506|LOC112777671</td>\n      <td>pink</td>\n      <td>0.938104</td>\n      <td>7.916552e-08</td>\n      <td>-0.918029</td>\n      <td>5.357212e-07</td>\n    </tr>\n    <tr>\n      <th>34054</th>\n      <td>MSTRG.46302|LOC112776304</td>\n      <td>pink</td>\n      <td>0.936848</td>\n      <td>9.080682e-08</td>\n      <td>-0.911187</td>\n      <td>9.216793e-07</td>\n    </tr>\n    <tr>\n      <th>34052</th>\n      <td>gene-LOC112721805</td>\n      <td>pink</td>\n      <td>0.934872</td>\n      <td>1.120630e-07</td>\n      <td>-0.908078</td>\n      <td>1.162807e-06</td>\n    </tr>\n    <tr>\n      <th>34051</th>\n      <td>MSTRG.21104|LOC112711644</td>\n      <td>pink</td>\n      <td>0.934604</td>\n      <td>1.152536e-07</td>\n      <td>-0.905376</td>\n      <td>1.413726e-06</td>\n    </tr>\n    <tr>\n      <th>34049</th>\n      <td>MSTRG.33462|LOC112743531</td>\n      <td>pink</td>\n      <td>-0.933743</td>\n      <td>1.260108e-07</td>\n      <td>0.915849</td>\n      <td>6.399954e-07</td>\n    </tr>\n    <tr>\n      <th>34047</th>\n      <td>MSTRG.39384|LOC112754965|LOC112754966</td>\n      <td>pink</td>\n      <td>-0.932376</td>\n      <td>1.448428e-07</td>\n      <td>0.924651</td>\n      <td>3.024421e-07</td>\n    </tr>\n    <tr>\n      <th>34046</th>\n      <td>MSTRG.7367|LOC112791767</td>\n      <td>pink</td>\n      <td>0.930853</td>\n      <td>1.685847e-07</td>\n      <td>-0.935671</td>\n      <td>1.030139e-07</td>\n    </tr>\n    <tr>\n      <th>27915</th>\n      <td>MSTRG.28470|LOC112728651</td>\n      <td>lightgreen</td>\n      <td>-0.749809</td>\n      <td>8.236977e-04</td>\n      <td>0.921847</td>\n      <td>3.876443e-07</td>\n    </tr>\n  </tbody>\n</table>\n</div>"
     },
     "metadata": {},
     "execution_count": 216
    }
   ],
   "source": [
    "hubresult.head(16)"
   ]
  },
  {
   "cell_type": "code",
   "execution_count": 220,
   "metadata": {},
   "outputs": [],
   "source": [
    "deg = pd.read_excel(\"DEG_05only_fc>0annotation.xlsx\",sheet_name=\"<0.05\")"
   ]
  },
  {
   "cell_type": "code",
   "execution_count": 221,
   "metadata": {},
   "outputs": [
    {
     "output_type": "execute_result",
     "data": {
      "text/plain": "   Unnamed: 0                                Gene ID     baseMean  \\\n0           0  MSTRG.39670|LOC112755344|LOC112755346  5665.796829   \n1           1               MSTRG.16573|LOC112702962  4144.607940   \n2           2               MSTRG.18423|LOC112706956   141.266028   \n\n   log2FoldChange     lfcSE      stat        pvalue      padj  class  \\\n0        0.755148  0.141822  5.324621  1.011638e-07  0.000003  62vsC   \n1        0.514004  0.129899  3.956945  7.591429e-05  0.000925  62vsC   \n2       -2.209154  0.610619 -3.617894  2.970102e-04  0.002914  62vsC   \n\n                                          annotation Unnamed: 10  \n0  |rust resistance kinase Lr10~ transcript varia...          up  \n1  |uncharacterized LOC112702962~ transcript vari...          up  \n2  |E3 ubiquitin-protein ligase PUB23;transcript_...        down  ",
      "text/html": "<div>\n<style scoped>\n    .dataframe tbody tr th:only-of-type {\n        vertical-align: middle;\n    }\n\n    .dataframe tbody tr th {\n        vertical-align: top;\n    }\n\n    .dataframe thead th {\n        text-align: right;\n    }\n</style>\n<table border=\"1\" class=\"dataframe\">\n  <thead>\n    <tr style=\"text-align: right;\">\n      <th></th>\n      <th>Unnamed: 0</th>\n      <th>Gene ID</th>\n      <th>baseMean</th>\n      <th>log2FoldChange</th>\n      <th>lfcSE</th>\n      <th>stat</th>\n      <th>pvalue</th>\n      <th>padj</th>\n      <th>class</th>\n      <th>annotation</th>\n      <th>Unnamed: 10</th>\n    </tr>\n  </thead>\n  <tbody>\n    <tr>\n      <th>0</th>\n      <td>0</td>\n      <td>MSTRG.39670|LOC112755344|LOC112755346</td>\n      <td>5665.796829</td>\n      <td>0.755148</td>\n      <td>0.141822</td>\n      <td>5.324621</td>\n      <td>1.011638e-07</td>\n      <td>0.000003</td>\n      <td>62vsC</td>\n      <td>|rust resistance kinase Lr10~ transcript varia...</td>\n      <td>up</td>\n    </tr>\n    <tr>\n      <th>1</th>\n      <td>1</td>\n      <td>MSTRG.16573|LOC112702962</td>\n      <td>4144.607940</td>\n      <td>0.514004</td>\n      <td>0.129899</td>\n      <td>3.956945</td>\n      <td>7.591429e-05</td>\n      <td>0.000925</td>\n      <td>62vsC</td>\n      <td>|uncharacterized LOC112702962~ transcript vari...</td>\n      <td>up</td>\n    </tr>\n    <tr>\n      <th>2</th>\n      <td>2</td>\n      <td>MSTRG.18423|LOC112706956</td>\n      <td>141.266028</td>\n      <td>-2.209154</td>\n      <td>0.610619</td>\n      <td>-3.617894</td>\n      <td>2.970102e-04</td>\n      <td>0.002914</td>\n      <td>62vsC</td>\n      <td>|E3 ubiquitin-protein ligase PUB23;transcript_...</td>\n      <td>down</td>\n    </tr>\n  </tbody>\n</table>\n</div>"
     },
     "metadata": {},
     "execution_count": 221
    }
   ],
   "source": [
    "deg.head(3)"
   ]
  },
  {
   "cell_type": "code",
   "execution_count": 222,
   "metadata": {},
   "outputs": [
    {
     "output_type": "execute_result",
     "data": {
      "text/plain": "                   substanceBXH moduleColor  GS.treatment  p.GS.treatment  \\\n34065               MSTRG.716.1        pink      0.949072    2.081598e-08   \n34063  MSTRG.42221|LOC112764731        pink     -0.945124    3.473411e-08   \n\n             MM          p.MM  \n34065 -0.913441  7.746223e-07  \n34063  0.914641  7.047934e-07  ",
      "text/html": "<div>\n<style scoped>\n    .dataframe tbody tr th:only-of-type {\n        vertical-align: middle;\n    }\n\n    .dataframe tbody tr th {\n        vertical-align: top;\n    }\n\n    .dataframe thead th {\n        text-align: right;\n    }\n</style>\n<table border=\"1\" class=\"dataframe\">\n  <thead>\n    <tr style=\"text-align: right;\">\n      <th></th>\n      <th>substanceBXH</th>\n      <th>moduleColor</th>\n      <th>GS.treatment</th>\n      <th>p.GS.treatment</th>\n      <th>MM</th>\n      <th>p.MM</th>\n    </tr>\n  </thead>\n  <tbody>\n    <tr>\n      <th>34065</th>\n      <td>MSTRG.716.1</td>\n      <td>pink</td>\n      <td>0.949072</td>\n      <td>2.081598e-08</td>\n      <td>-0.913441</td>\n      <td>7.746223e-07</td>\n    </tr>\n    <tr>\n      <th>34063</th>\n      <td>MSTRG.42221|LOC112764731</td>\n      <td>pink</td>\n      <td>-0.945124</td>\n      <td>3.473411e-08</td>\n      <td>0.914641</td>\n      <td>7.047934e-07</td>\n    </tr>\n  </tbody>\n</table>\n</div>"
     },
     "metadata": {},
     "execution_count": 222
    }
   ],
   "source": [
    "new_result = hubresult\n",
    "new_result.head(2)"
   ]
  },
  {
   "cell_type": "code",
   "execution_count": 223,
   "metadata": {
    "tags": []
   },
   "outputs": [
    {
     "output_type": "stream",
     "name": "stdout",
     "text": "working on 62vsC\nworking on 612vsC\nworking on 712vsC\nworking on 72vsC\nfinished!\n"
    },
    {
     "output_type": "execute_result",
     "data": {
      "text/plain": "                   substanceBXH moduleColor  GS.treatment  p.GS.treatment  \\\n34065               MSTRG.716.1        pink      0.949072    2.081598e-08   \n34063  MSTRG.42221|LOC112764731        pink     -0.945124    3.473411e-08   \n34062   MSTRG.9403|LOC112796913        pink     -0.944265    3.863420e-08   \n34061   MSTRG.9764|LOC112797355        pink      0.943160    4.419325e-08   \n34060             MSTRG.18853.1        pink     -0.943018    4.495597e-08   \n\n             MM          p.MM   62vsC_mean  62vsC_fc   612vsC_mean  612vsC_fc  \\\n34065 -0.913441  7.746223e-07          NaN       NaN           NaN        NaN   \n34063  0.914641  7.047934e-07          NaN       NaN   3166.157092  -0.584196   \n34062  0.925045  2.918502e-07   6212.56162 -1.234595   3857.937083  -5.620129   \n34061 -0.958620  4.992548e-09  10792.11706  0.533729  13772.856188   1.213894   \n34060  0.903527  1.610729e-06          NaN       NaN           NaN        NaN   \n\n        712vsC_mean  712vsC_fc  72vsC_mean  72vsC_fc  \n34065           NaN        NaN         NaN       NaN  \n34063   4065.327984  -0.454414         NaN       NaN  \n34062   3744.146952  -5.236222         NaN       NaN  \n34061  15216.760448   1.260239         NaN       NaN  \n34060           NaN        NaN         NaN       NaN  ",
      "text/html": "<div>\n<style scoped>\n    .dataframe tbody tr th:only-of-type {\n        vertical-align: middle;\n    }\n\n    .dataframe tbody tr th {\n        vertical-align: top;\n    }\n\n    .dataframe thead th {\n        text-align: right;\n    }\n</style>\n<table border=\"1\" class=\"dataframe\">\n  <thead>\n    <tr style=\"text-align: right;\">\n      <th></th>\n      <th>substanceBXH</th>\n      <th>moduleColor</th>\n      <th>GS.treatment</th>\n      <th>p.GS.treatment</th>\n      <th>MM</th>\n      <th>p.MM</th>\n      <th>62vsC_mean</th>\n      <th>62vsC_fc</th>\n      <th>612vsC_mean</th>\n      <th>612vsC_fc</th>\n      <th>712vsC_mean</th>\n      <th>712vsC_fc</th>\n      <th>72vsC_mean</th>\n      <th>72vsC_fc</th>\n    </tr>\n  </thead>\n  <tbody>\n    <tr>\n      <th>34065</th>\n      <td>MSTRG.716.1</td>\n      <td>pink</td>\n      <td>0.949072</td>\n      <td>2.081598e-08</td>\n      <td>-0.913441</td>\n      <td>7.746223e-07</td>\n      <td>NaN</td>\n      <td>NaN</td>\n      <td>NaN</td>\n      <td>NaN</td>\n      <td>NaN</td>\n      <td>NaN</td>\n      <td>NaN</td>\n      <td>NaN</td>\n    </tr>\n    <tr>\n      <th>34063</th>\n      <td>MSTRG.42221|LOC112764731</td>\n      <td>pink</td>\n      <td>-0.945124</td>\n      <td>3.473411e-08</td>\n      <td>0.914641</td>\n      <td>7.047934e-07</td>\n      <td>NaN</td>\n      <td>NaN</td>\n      <td>3166.157092</td>\n      <td>-0.584196</td>\n      <td>4065.327984</td>\n      <td>-0.454414</td>\n      <td>NaN</td>\n      <td>NaN</td>\n    </tr>\n    <tr>\n      <th>34062</th>\n      <td>MSTRG.9403|LOC112796913</td>\n      <td>pink</td>\n      <td>-0.944265</td>\n      <td>3.863420e-08</td>\n      <td>0.925045</td>\n      <td>2.918502e-07</td>\n      <td>6212.56162</td>\n      <td>-1.234595</td>\n      <td>3857.937083</td>\n      <td>-5.620129</td>\n      <td>3744.146952</td>\n      <td>-5.236222</td>\n      <td>NaN</td>\n      <td>NaN</td>\n    </tr>\n    <tr>\n      <th>34061</th>\n      <td>MSTRG.9764|LOC112797355</td>\n      <td>pink</td>\n      <td>0.943160</td>\n      <td>4.419325e-08</td>\n      <td>-0.958620</td>\n      <td>4.992548e-09</td>\n      <td>10792.11706</td>\n      <td>0.533729</td>\n      <td>13772.856188</td>\n      <td>1.213894</td>\n      <td>15216.760448</td>\n      <td>1.260239</td>\n      <td>NaN</td>\n      <td>NaN</td>\n    </tr>\n    <tr>\n      <th>34060</th>\n      <td>MSTRG.18853.1</td>\n      <td>pink</td>\n      <td>-0.943018</td>\n      <td>4.495597e-08</td>\n      <td>0.903527</td>\n      <td>1.610729e-06</td>\n      <td>NaN</td>\n      <td>NaN</td>\n      <td>NaN</td>\n      <td>NaN</td>\n      <td>NaN</td>\n      <td>NaN</td>\n      <td>NaN</td>\n      <td>NaN</td>\n    </tr>\n  </tbody>\n</table>\n</div>"
     },
     "metadata": {},
     "execution_count": 223
    }
   ],
   "source": [
    "new_result = hubresult\n",
    "for c in set(deg['class']):\n",
    "    print('working on %s' %c)\n",
    "    col1 = c + \"_mean\"\n",
    "    col2 = c + \"_fc\"\n",
    "    deg_c = deg[deg[\"class\"] == c][['Gene ID','baseMean', 'log2FoldChange']]\n",
    "    deg_c.rename(columns={'baseMean': col1, 'log2FoldChange': col2}, inplace=True)\n",
    "    # print(deg_c.head())\n",
    "    new_result = new_result.join(deg_c.set_index(\"Gene ID\"),on=\"substanceBXH\")\n",
    "    # print(new_result.head())\n",
    "print('finished!')\n",
    "new_result.head()"
   ]
  },
  {
   "cell_type": "code",
   "execution_count": 224,
   "metadata": {},
   "outputs": [],
   "source": [
    "new_result.to_excel(\"HubGenes_selection_wgcna.xlsx\", sheet_name=\"top10hub\",index=False)"
   ]
  },
  {
   "cell_type": "code",
   "execution_count": null,
   "metadata": {},
   "outputs": [],
   "source": []
  }
 ]
}